{
 "cells": [
  {
   "cell_type": "code",
   "execution_count": null,
   "metadata": {},
   "outputs": [],
   "source": [
    "import matplotlib.pyplot as plt\n",
    "%matplotlib inline\n",
    "import numpy as np"
   ]
  },
  {
   "cell_type": "code",
   "execution_count": null,
   "metadata": {},
   "outputs": [],
   "source": [
    "def function_for_roots(x):\n",
    "    return 1.01*x**2 - 3.04 * x + 2.07"
   ]
  },
  {
   "cell_type": "code",
   "execution_count": null,
   "metadata": {},
   "outputs": [],
   "source": [
    "#returns a list from 0 to 3, incremented in thousandths\n",
    "x = np.linspace(0, 3, 1000)"
   ]
  },
  {
   "cell_type": "code",
   "execution_count": null,
   "metadata": {},
   "outputs": [],
   "source": [
    "#plots our function for roots, using the linspace we defined as our input\n",
    "plt.plot(x, function_for_roots(x))\n",
    "\n",
    "f_min = function_for_roots(x[0])\n",
    "f_max = function_for_roots(1.5)\n",
    "\n",
    "#our line through 0\n",
    "plt.axhline(0.0, linestyle = ':', color='k', alpha=.3)\n",
    "\n",
    "#marking our interval for root-searching\n",
    "plt.plot(x[0], f_min, marker='o', color='orange')\n",
    "plt.plot(1.5, f_max, marker='o', color='orange')\n",
    "\n",
    "f_max2 = function_for_roots(x[-1])\n",
    "plt.plot(x[-1], f_max2, marker='+', color='red')\n",
    "plt.plot(1.5, f_max, marker='+', color='red')\n",
    "\n",
    "\n",
    "plt.ylabel('y')\n",
    "plt.xlabel('x')\n",
    "#our plot limits\n",
    "plt.xlim(0,3)\n",
    "plt.ylim(-.5, 2.1)"
   ]
  },
  {
   "cell_type": "code",
   "execution_count": null,
   "metadata": {},
   "outputs": [],
   "source": [
    "def quadratic(a,b,c):\n",
    "    '''x = (-b +- sqrt(b^2 -4*a*c))/2*a)'''\n",
    "    return (-b + np.sqrt(b**2 - 4*a*c)) / (2*a), \\\n",
    "            (-b - np.sqrt(b**2 - 4*a*c)) / (2*a)"
   ]
  },
  {
   "cell_type": "code",
   "execution_count": null,
   "metadata": {},
   "outputs": [],
   "source": [
    "quadratic(1.01,-3.04,2.07)"
   ]
  },
  {
   "cell_type": "code",
   "execution_count": null,
   "metadata": {},
   "outputs": [],
   "source": [
    "def check_initial_values(f, x_min, x_max, tol):\n",
    "    \n",
    "    y_min = f(x_min)\n",
    "    y_max = f(x_max)\n",
    "      \n",
    "    #check our initial guesses\n",
    "    if (y_min * y_max >= 0):\n",
    "        print('I won\\'t ever cross zero')\n",
    "        return 0\n",
    "    \n",
    "    #if x_min is a root, then return flag ==1\n",
    "    if (np.fabs(y_min) < tol):\n",
    "        return 1\n",
    "    # if our x_maximum value is as close to our zero as we require, then flag==2\n",
    "    if (np.fabs(y_max) < tol):\n",
    "        return 2\n",
    "    \n",
    "    #if we reach this point, the bracket is valid and return 3\n",
    "    return 3"
   ]
  },
  {
   "cell_type": "code",
   "execution_count": null,
   "metadata": {},
   "outputs": [],
   "source": [
    "def bisection_root_finding(f, x_min_start, x_max_start, tol):\n",
    "    x_min = x_min_start\n",
    "    x_max = x_max_start\n",
    "    x_mid = 0.0\n",
    "    \n",
    "    y_min = f(x_min)\n",
    "    y_max = f(x_max)\n",
    "    y_mid = 0.0\n",
    "    \n",
    "    #setting our maximum number of root-finding iterations\n",
    "    imax = 10000\n",
    "    i = 0\n",
    "    \n",
    "    #call our function\n",
    "    flag = check_initial_values(f, x_min, x_max, tol)\n",
    "    if(flag==0):\n",
    "        print('Error in bisection_root_finding().')\n",
    "        raise ValueError('Initial values invalid. There is likely no root between the choosen bounds.', x_min, x_max)\n",
    "    elif(flag==1):\n",
    "        #lucky guess\n",
    "        return x_min\n",
    "    elif(flag==2):\n",
    "        #another lucky guess\n",
    "        return x_max\n",
    "    \n",
    "    #set a flag\n",
    "    flag = 1\n",
    "    \n",
    "    #While flag is true, whileloop\n",
    "    while(flag):\n",
    "        x_mid = .5 * (x_min + x_max)\n",
    "        y_mid = f(x_mid)\n",
    "        \n",
    "        if(np.fabs(y_mid)<tol):\n",
    "            flag=0\n",
    "        else:\n",
    "            #x_mid is not a root\n",
    "            \n",
    "            if(f(x_min)*f(x_mid)>0):\n",
    "            #replace x_min with x_mid\n",
    "                x_min = x_mid\n",
    "            else:\n",
    "                x_max = x_mid\n",
    "            \n",
    "        print(x_min,f(x_min),x_max,f(x_max))\n",
    "        \n",
    "        i += 1\n",
    "        if i>=imax:\n",
    "            raise StopIteration('Stopped iterating')\n",
    "        \n",
    "    return x_mid"
   ]
  },
  {
   "cell_type": "code",
   "execution_count": null,
   "metadata": {},
   "outputs": [],
   "source": [
    "x_min = 0.0\n",
    "x_max = 1.5\n",
    "tolerance = 1.0e-6\n",
    "\n",
    "print(x_min, function_for_roots(x_min))\n",
    "print(x_max, function_for_roots(x_max))\n",
    "\n",
    "x_root = bisection_root_finding(function_for_roots, x_min, x_max, tolerance)\n",
    "y_root = function_for_roots(x_root)\n",
    "\n",
    "x = 'Root found with y(%f) = %f' % (x_root, y_root)\n",
    "print(x)"
   ]
  }
 ],
 "metadata": {
  "kernelspec": {
   "display_name": "Python 3",
   "language": "python",
   "name": "python3"
  },
  "language_info": {
   "codemirror_mode": {
    "name": "ipython",
    "version": 3
   },
   "file_extension": ".py",
   "mimetype": "text/x-python",
   "name": "python",
   "nbconvert_exporter": "python",
   "pygments_lexer": "ipython3",
   "version": "3.7.0"
  }
 },
 "nbformat": 4,
 "nbformat_minor": 2
}
